{
 "cells": [
  {
   "cell_type": "code",
   "execution_count": 1,
   "metadata": {},
   "outputs": [],
   "source": [
    "import pandas as pd\n",
    "import numpy as np\n",
    "import tensorflow as tf\n",
    "import matplotlib.pyplot as plt\n",
    "from tensorflow.keras.callbacks import LearningRateScheduler\n",
    "import seaborn as sns\n",
    "from sklearn.model_selection import train_test_split\n",
    "from sklearn.preprocessing import MinMaxScaler\n",
    "from tensorflow.keras import layers\n",
    "from tensorflow.keras import models\n",
    "from keras.callbacks import ModelCheckpoint\n",
    "from tensorflow.keras.callbacks import EarlyStopping\n",
    "from tensorflow import keras\n",
    "from sklearn.metrics import roc_curve, auc\n",
    "\n",
    "from LSSVM import LSSVC\n",
    "import matplotlib.pyplot as plt\n",
    "from sklearn.model_selection import train_test_split\n",
    "from sklearn.neighbors import KNeighborsClassifier\n",
    "from sklearn.metrics import accuracy_score\n",
    "\n",
    "from sklearn.tree import DecisionTreeClassifier\n",
    "from sklearn.ensemble import RandomForestClassifier\n",
    "from sklearn.svm import SVC\n",
    "from sklearn.naive_bayes import GaussianNB\n",
    "from sklearn.metrics import classification_report\n",
    "from sklearn.preprocessing import MinMaxScaler\n",
    "from sklearn.metrics import confusion_matrix\n",
    "import xgboost as xgb\n",
    "import lightgbm as lgb\n",
    "from catboost import CatBoostClassifier"
   ]
  },
  {
   "cell_type": "code",
   "execution_count": 2,
   "metadata": {},
   "outputs": [
    {
     "name": "stdout",
     "output_type": "stream",
     "text": [
      "Num GPUs Available:  0\n"
     ]
    }
   ],
   "source": [
    "print(\"Num GPUs Available: \", len(tf.config.list_physical_devices('GPU')))"
   ]
  },
  {
   "cell_type": "code",
   "execution_count": null,
   "metadata": {},
   "outputs": [],
   "source": [
    "from sklearn.metrics import confusion_matrix\n",
    "import numpy as np\n",
    "\n",
    "def print_error_matrix(y_test, y_pred):\n",
    "    tn, fp, fn, tp = confusion_matrix(y_test, y_pred).ravel()\n",
    "\n",
    "    accuracy = (tp + tn) / (tp + tn + fp + fn) if (tp + tn + fp + fn) > 0 else 0\n",
    "    precision = tp / (tp + fp) if (tp + fp) > 0 else 0\n",
    "    sensitivity = tp / (tp + fn) if (tp + fn) > 0 else 0  # recall\n",
    "    specificity = tn / (tn + fp) if (tn + fp) > 0 else 0\n",
    "    F1 = 2 * tp / (2 * tp + fp + fn) if (2 * tp + fp + fn) > 0 else 0\n",
    "\n",
    "    # MCC\n",
    "    denom = np.sqrt((tp + fp) * (tp + fn) * (tn + fp) * (tn + fn))\n",
    "    mcc = ((tp * tn) - (fp * fn)) / denom if denom > 0 else 0\n",
    "\n",
    "    print(f\"Accuracy:     {accuracy:.4f}\")\n",
    "    print(f\"F1:           {F1:.4f}\")\n",
    "    print(f\"Precision:    {precision:.4f}\")\n",
    "    print(f\"Sensitivity:  {sensitivity:.4f}\")\n",
    "    print(f\"Specificity:  {specificity:.4f}\")\n",
    "    print(f\"MCC:          {mcc:.4f}\")\n",
    "    print(f\"TP:           {tp}\")\n",
    "    print(f\"FP:           {fp}\")\n",
    "    print(f\"TN:           {tn}\")\n",
    "    print(f\"FN:           {fn}\")\n",
    "    print(\"         Pred 0    Pred 1\")\n",
    "    print(f\"True 0    {tn:4}     {fp:4}\")\n",
    "    print(f\"True 1    {fn:4}     {tp:4}\")\n",
    "\n",
    "\n",
    "def plot_ROC(fpr,tpr,roc_auc):\n",
    "    plt.figure(figsize=(8, 6))\n",
    "    plt.plot(fpr, tpr, label=f'ROC (AUC = {roc_auc:.4f})')\n",
    "    plt.plot([0, 1], [0, 1], linestyle='--', color='gray')\n",
    "    plt.xlabel('False Positive Rate')\n",
    "    plt.ylabel('True Positive Rate')\n",
    "    plt.title('Krzywa ROC')\n",
    "    plt.legend(loc='lower right')\n",
    "    plt.grid(True)\n",
    "    plt.show()"
   ]
  },
  {
   "cell_type": "code",
   "execution_count": 7,
   "metadata": {},
   "outputs": [],
   "source": [
    "train=pd.read_csv(\"dataset_train.csv\")\n",
    "test=pd.read_csv(\"dataset_test.csv\")\n",
    "\n",
    "test['arrytmia'] = test['arrytmia'].apply(lambda x: 1 if x > 1 else x)\n",
    "train['arrytmia'] = train['arrytmia'].apply(lambda x: 1 if x > 1 else x)\n",
    "\n",
    "\n",
    "scaler = MinMaxScaler()\n",
    "train = pd.DataFrame(scaler.fit_transform(train), columns=train.columns)\n",
    "\n",
    "test = pd.DataFrame(scaler.transform(test), columns=test.columns)\n",
    "\n",
    "\n",
    "\n",
    "X_train = train.iloc[: ,1:].values\n",
    "y_train = train['arrytmia'].values\n",
    "\n",
    "X_test = test.iloc[: ,1:].values\n",
    "y_test = test['arrytmia'].values"
   ]
  },
  {
   "cell_type": "code",
   "execution_count": 5,
   "metadata": {},
   "outputs": [],
   "source": [
    "_, X_val, _, y_val = train_test_split(X_train, y_train, test_size=0.2, random_state=42)"
   ]
  },
  {
   "cell_type": "markdown",
   "metadata": {},
   "source": [
    "## KNN"
   ]
  },
  {
   "cell_type": "code",
   "execution_count": 42,
   "metadata": {},
   "outputs": [
    {
     "name": "stdout",
     "output_type": "stream",
     "text": [
      "              precision    recall  f1-score   support\n",
      "\n",
      "         0.0       0.72      0.14      0.23      1565\n",
      "         1.0       0.78      0.98      0.87      4952\n",
      "\n",
      "    accuracy                           0.78      6517\n",
      "   macro avg       0.75      0.56      0.55      6517\n",
      "weighted avg       0.77      0.78      0.72      6517\n",
      "\n",
      "Accuracy:     0.7801\n",
      "F1:           0.8717\n",
      "Precision:    0.7831\n",
      "Sensitivity:  0.9828\n",
      "Specificity:  0.1387\n",
      "MCC:          0.2469\n",
      "TP:           4867\n",
      "FP:           1348\n",
      "TN:           217\n",
      "FN:           85\n",
      "         Pred 0    Pred 1\n",
      "True 0     217     1348\n",
      "True 1      85     4867\n"
     ]
    }
   ],
   "source": [
    "knn = KNeighborsClassifier(n_neighbors=50)\n",
    "knn.fit(X_train, y_train)\n",
    "\n",
    "\n",
    "y_pred = knn.predict(X_test)\n",
    "accuracy = accuracy_score(y_test, y_pred)\n",
    "print(classification_report(y_test, y_pred))\n",
    "print_error_matrix(y_test,y_pred)"
   ]
  },
  {
   "cell_type": "markdown",
   "metadata": {},
   "source": [
    "## DecisionTree"
   ]
  },
  {
   "cell_type": "code",
   "execution_count": 43,
   "metadata": {},
   "outputs": [
    {
     "name": "stdout",
     "output_type": "stream",
     "text": [
      "              precision    recall  f1-score   support\n",
      "\n",
      "         0.0       0.72      0.14      0.23      1565\n",
      "         1.0       0.78      0.98      0.87      4952\n",
      "\n",
      "    accuracy                           0.78      6517\n",
      "   macro avg       0.75      0.56      0.55      6517\n",
      "weighted avg       0.77      0.78      0.72      6517\n",
      "\n",
      "Accuracy:     0.7801\n",
      "F1:           0.8717\n",
      "Precision:    0.7831\n",
      "Sensitivity:  0.9828\n",
      "Specificity:  0.1387\n",
      "MCC:          0.2469\n",
      "TP:           4867\n",
      "FP:           1348\n",
      "TN:           217\n",
      "FN:           85\n",
      "         Pred 0    Pred 1\n",
      "True 0     217     1348\n",
      "True 1      85     4867\n"
     ]
    }
   ],
   "source": [
    "clf = DecisionTreeClassifier(max_depth=30)  \n",
    "clf.fit(X_train, y_train)\n",
    "\n",
    "\n",
    "accuracy = clf.score(X_test, y_test) \n",
    "print(classification_report(y_test, y_pred))\n",
    "print_error_matrix(y_test,y_pred)"
   ]
  },
  {
   "cell_type": "markdown",
   "metadata": {},
   "source": [
    "## RandomForest"
   ]
  },
  {
   "cell_type": "code",
   "execution_count": 44,
   "metadata": {},
   "outputs": [
    {
     "name": "stdout",
     "output_type": "stream",
     "text": [
      "              precision    recall  f1-score   support\n",
      "\n",
      "         0.0       0.92      0.02      0.04      1565\n",
      "         1.0       0.76      1.00      0.87      4952\n",
      "\n",
      "    accuracy                           0.76      6517\n",
      "   macro avg       0.84      0.51      0.45      6517\n",
      "weighted avg       0.80      0.76      0.67      6517\n",
      "\n",
      "Accuracy:     0.7648\n",
      "F1:           0.8659\n",
      "Precision:    0.7639\n",
      "Sensitivity:  0.9994\n",
      "Specificity:  0.0224\n",
      "MCC:          0.1221\n",
      "TP:           4949\n",
      "FP:           1530\n",
      "TN:           35\n",
      "FN:           3\n",
      "         Pred 0    Pred 1\n",
      "True 0      35     1530\n",
      "True 1       3     4949\n"
     ]
    }
   ],
   "source": [
    "clf = RandomForestClassifier(n_estimators=100, max_depth=3, random_state=42)\n",
    "clf.fit(X_train, y_train)\n",
    "\n",
    "y_pred = clf.predict(X_test)\n",
    "\n",
    "accuracy = accuracy_score(y_test, y_pred)\n",
    "print(classification_report(y_test, y_pred))\n",
    "print_error_matrix(y_test,y_pred)"
   ]
  },
  {
   "cell_type": "markdown",
   "metadata": {},
   "source": [
    "## klasyfikator Naive Bayes"
   ]
  },
  {
   "cell_type": "code",
   "execution_count": 45,
   "metadata": {},
   "outputs": [
    {
     "name": "stdout",
     "output_type": "stream",
     "text": [
      "              precision    recall  f1-score   support\n",
      "\n",
      "         0.0       0.66      0.28      0.40      1565\n",
      "         1.0       0.81      0.95      0.87      4952\n",
      "\n",
      "    accuracy                           0.79      6517\n",
      "   macro avg       0.73      0.62      0.64      6517\n",
      "weighted avg       0.77      0.79      0.76      6517\n",
      "\n",
      "Accuracy:     0.7922\n",
      "F1:           0.8746\n",
      "Precision:    0.8079\n",
      "Sensitivity:  0.9532\n",
      "Specificity:  0.2831\n",
      "MCC:          0.3312\n",
      "TP:           4720\n",
      "FP:           1122\n",
      "TN:           443\n",
      "FN:           232\n",
      "         Pred 0    Pred 1\n",
      "True 0     443     1122\n",
      "True 1     232     4720\n"
     ]
    }
   ],
   "source": [
    "model = GaussianNB()\n",
    "model.fit(X_train, y_train)\n",
    "\n",
    "y_pred = model.predict(X_test)\n",
    "\n",
    "accuracy = accuracy_score(y_test, y_pred)\n",
    "print(classification_report(y_test, y_pred))\n",
    "print_error_matrix(y_test,y_pred)"
   ]
  },
  {
   "cell_type": "markdown",
   "metadata": {},
   "source": [
    "## Neural Network"
   ]
  },
  {
   "cell_type": "code",
   "execution_count": 11,
   "metadata": {},
   "outputs": [
    {
     "name": "stdout",
     "output_type": "stream",
     "text": [
      "Epoch 1/20\n",
      "\u001b[1m507/507\u001b[0m \u001b[32m━━━━━━━━━━━━━━━━━━━━\u001b[0m\u001b[37m\u001b[0m \u001b[1m3s\u001b[0m 4ms/step - accuracy: 0.7808 - loss: 0.4356 - val_accuracy: 0.7368 - val_loss: 0.7889 - learning_rate: 0.0010\n",
      "Epoch 2/20\n",
      "\u001b[1m507/507\u001b[0m \u001b[32m━━━━━━━━━━━━━━━━━━━━\u001b[0m\u001b[37m\u001b[0m \u001b[1m2s\u001b[0m 4ms/step - accuracy: 0.8358 - loss: 0.3473 - val_accuracy: 0.4880 - val_loss: 1.3250 - learning_rate: 0.0010\n",
      "Epoch 3/20\n",
      "\u001b[1m507/507\u001b[0m \u001b[32m━━━━━━━━━━━━━━━━━━━━\u001b[0m\u001b[37m\u001b[0m \u001b[1m2s\u001b[0m 4ms/step - accuracy: 0.8477 - loss: 0.3300 - val_accuracy: 0.6115 - val_loss: 1.2813 - learning_rate: 0.0010\n",
      "Epoch 4/20\n",
      "\u001b[1m507/507\u001b[0m \u001b[32m━━━━━━━━━━━━━━━━━━━━\u001b[0m\u001b[37m\u001b[0m \u001b[1m2s\u001b[0m 4ms/step - accuracy: 0.8559 - loss: 0.3097 - val_accuracy: 0.5866 - val_loss: 1.7200 - learning_rate: 0.0010\n",
      "Epoch 5/20\n",
      "\u001b[1m507/507\u001b[0m \u001b[32m━━━━━━━━━━━━━━━━━━━━\u001b[0m\u001b[37m\u001b[0m \u001b[1m2s\u001b[0m 4ms/step - accuracy: 0.8576 - loss: 0.3027 - val_accuracy: 0.6043 - val_loss: 1.2761 - learning_rate: 0.0010\n",
      "Epoch 6/20\n",
      "\u001b[1m507/507\u001b[0m \u001b[32m━━━━━━━━━━━━━━━━━━━━\u001b[0m\u001b[37m\u001b[0m \u001b[1m2s\u001b[0m 4ms/step - accuracy: 0.8651 - loss: 0.2906 - val_accuracy: 0.5596 - val_loss: 1.4367 - learning_rate: 9.0484e-04\n",
      "Epoch 7/20\n",
      "\u001b[1m507/507\u001b[0m \u001b[32m━━━━━━━━━━━━━━━━━━━━\u001b[0m\u001b[37m\u001b[0m \u001b[1m2s\u001b[0m 4ms/step - accuracy: 0.8763 - loss: 0.2672 - val_accuracy: 0.5279 - val_loss: 1.3774 - learning_rate: 8.1873e-04\n",
      "Epoch 8/20\n",
      "\u001b[1m507/507\u001b[0m \u001b[32m━━━━━━━━━━━━━━━━━━━━\u001b[0m\u001b[37m\u001b[0m \u001b[1m2s\u001b[0m 4ms/step - accuracy: 0.8840 - loss: 0.2532 - val_accuracy: 0.5243 - val_loss: 1.4440 - learning_rate: 7.4082e-04\n",
      "Epoch 9/20\n",
      "\u001b[1m507/507\u001b[0m \u001b[32m━━━━━━━━━━━━━━━━━━━━\u001b[0m\u001b[37m\u001b[0m \u001b[1m2s\u001b[0m 4ms/step - accuracy: 0.8829 - loss: 0.2495 - val_accuracy: 0.5478 - val_loss: 1.4567 - learning_rate: 6.7032e-04\n",
      "Epoch 10/20\n",
      "\u001b[1m507/507\u001b[0m \u001b[32m━━━━━━━━━━━━━━━━━━━━\u001b[0m\u001b[37m\u001b[0m \u001b[1m2s\u001b[0m 4ms/step - accuracy: 0.8865 - loss: 0.2443 - val_accuracy: 0.6216 - val_loss: 1.2288 - learning_rate: 6.0653e-04\n",
      "Epoch 11/20\n",
      "\u001b[1m507/507\u001b[0m \u001b[32m━━━━━━━━━━━━━━━━━━━━\u001b[0m\u001b[37m\u001b[0m \u001b[1m2s\u001b[0m 4ms/step - accuracy: 0.8915 - loss: 0.2337 - val_accuracy: 0.6598 - val_loss: 1.3654 - learning_rate: 5.4881e-04\n",
      "Epoch 12/20\n",
      "\u001b[1m507/507\u001b[0m \u001b[32m━━━━━━━━━━━━━━━━━━━━\u001b[0m\u001b[37m\u001b[0m \u001b[1m2s\u001b[0m 4ms/step - accuracy: 0.8918 - loss: 0.2298 - val_accuracy: 0.6310 - val_loss: 1.2725 - learning_rate: 4.9659e-04\n",
      "Epoch 13/20\n",
      "\u001b[1m507/507\u001b[0m \u001b[32m━━━━━━━━━━━━━━━━━━━━\u001b[0m\u001b[37m\u001b[0m \u001b[1m2s\u001b[0m 4ms/step - accuracy: 0.8942 - loss: 0.2264 - val_accuracy: 0.6041 - val_loss: 1.3728 - learning_rate: 4.4933e-04\n",
      "Epoch 14/20\n",
      "\u001b[1m507/507\u001b[0m \u001b[32m━━━━━━━━━━━━━━━━━━━━\u001b[0m\u001b[37m\u001b[0m \u001b[1m2s\u001b[0m 4ms/step - accuracy: 0.8968 - loss: 0.2200 - val_accuracy: 0.6267 - val_loss: 1.3377 - learning_rate: 4.0657e-04\n",
      "Epoch 15/20\n",
      "\u001b[1m507/507\u001b[0m \u001b[32m━━━━━━━━━━━━━━━━━━━━\u001b[0m\u001b[37m\u001b[0m \u001b[1m2s\u001b[0m 4ms/step - accuracy: 0.8969 - loss: 0.2193 - val_accuracy: 0.6514 - val_loss: 1.3529 - learning_rate: 3.6788e-04\n",
      "Epoch 16/20\n",
      "\u001b[1m507/507\u001b[0m \u001b[32m━━━━━━━━━━━━━━━━━━━━\u001b[0m\u001b[37m\u001b[0m \u001b[1m2s\u001b[0m 4ms/step - accuracy: 0.9004 - loss: 0.2130 - val_accuracy: 0.6027 - val_loss: 1.5977 - learning_rate: 3.3287e-04\n",
      "Epoch 17/20\n",
      "\u001b[1m507/507\u001b[0m \u001b[32m━━━━━━━━━━━━━━━━━━━━\u001b[0m\u001b[37m\u001b[0m \u001b[1m2s\u001b[0m 4ms/step - accuracy: 0.9008 - loss: 0.2131 - val_accuracy: 0.5871 - val_loss: 1.6207 - learning_rate: 3.0119e-04\n",
      "Epoch 18/20\n",
      "\u001b[1m507/507\u001b[0m \u001b[32m━━━━━━━━━━━━━━━━━━━━\u001b[0m\u001b[37m\u001b[0m \u001b[1m2s\u001b[0m 4ms/step - accuracy: 0.9018 - loss: 0.2134 - val_accuracy: 0.6096 - val_loss: 1.5543 - learning_rate: 2.7253e-04\n",
      "Epoch 19/20\n",
      "\u001b[1m507/507\u001b[0m \u001b[32m━━━━━━━━━━━━━━━━━━━━\u001b[0m\u001b[37m\u001b[0m \u001b[1m2s\u001b[0m 4ms/step - accuracy: 0.9009 - loss: 0.2084 - val_accuracy: 0.6317 - val_loss: 1.4065 - learning_rate: 2.4660e-04\n",
      "Epoch 20/20\n",
      "\u001b[1m507/507\u001b[0m \u001b[32m━━━━━━━━━━━━━━━━━━━━\u001b[0m\u001b[37m\u001b[0m \u001b[1m2s\u001b[0m 4ms/step - accuracy: 0.9033 - loss: 0.2060 - val_accuracy: 0.6360 - val_loss: 1.4944 - learning_rate: 2.2313e-04\n"
     ]
    },
    {
     "data": {
      "text/plain": [
       "<keras.src.callbacks.history.History at 0x24e4288b290>"
      ]
     },
     "execution_count": 11,
     "metadata": {},
     "output_type": "execute_result"
    }
   ],
   "source": [
    "def custom_scheduler(epoch, lr):\n",
    "    if epoch < 5:\n",
    "        return lr\n",
    "    else:\n",
    "        return float(lr * tf.math.exp(-0.1))\n",
    "\n",
    "model = keras.Sequential([\n",
    "    layers.Input(shape=(X_train.shape[1],)),\n",
    "    layers.Dense(1024, activation='relu'), \n",
    "    layers.Dense(512, activation='relu'),\n",
    "    layers.Dense(256, activation='relu'),\n",
    "    layers.Dense(128, activation='relu'), \n",
    "    layers.Dense(1, activation='sigmoid') \n",
    "])\n",
    "\n",
    "scheduler = LearningRateScheduler(custom_scheduler)\n",
    "\n",
    "model.compile(optimizer='adam', loss='binary_crossentropy', metrics=['accuracy'])\n",
    "\n",
    "model.fit(X_train, y_train, epochs=20, batch_size=128, validation_data=(X_test, y_test),callbacks=[scheduler])"
   ]
  },
  {
   "cell_type": "code",
   "execution_count": 12,
   "metadata": {},
   "outputs": [
    {
     "name": "stdout",
     "output_type": "stream",
     "text": [
      "\u001b[1m204/204\u001b[0m \u001b[32m━━━━━━━━━━━━━━━━━━━━\u001b[0m\u001b[37m\u001b[0m \u001b[1m0s\u001b[0m 1ms/step\n"
     ]
    },
    {
     "data": {
      "image/png": "[encoded data removed]",
      "text/plain": [
       "<Figure size 800x600 with 1 Axes>"
      ]
     },
     "metadata": {},
     "output_type": "display_data"
    }
   ],
   "source": [
    "y_probs = model.predict(X_test).ravel()  \n",
    "\n",
    "fpr, tpr, thresholds = roc_curve(y_test, y_probs)\n",
    "roc_auc = auc(fpr, tpr)\n",
    "\n",
    "plot_ROC(fpr,tpr,roc_auc)"
   ]
  },
  {
   "cell_type": "code",
   "execution_count": 19,
   "metadata": {},
   "outputs": [
    {
     "name": "stdout",
     "output_type": "stream",
     "text": [
      "\u001b[1m204/204\u001b[0m \u001b[32m━━━━━━━━━━━━━━━━━━━━\u001b[0m\u001b[37m\u001b[0m \u001b[1m0s\u001b[0m 1ms/step\n",
      "              precision    recall  f1-score   support\n",
      "\n",
      "         0.0       0.29      0.73      0.42      1565\n",
      "         1.0       0.84      0.45      0.58      4952\n",
      "\n",
      "    accuracy                           0.52      6517\n",
      "   macro avg       0.57      0.59      0.50      6517\n",
      "weighted avg       0.71      0.52      0.54      6517\n",
      "\n",
      "Accuracy:     0.5156\n",
      "F1:           0.5839\n",
      "Precision:    0.8406\n",
      "Sensitivity:  0.4473\n",
      "Specificity:  0.7316\n",
      "MCC:          0.1557\n",
      "TP:           2215\n",
      "FP:           420\n",
      "TN:           1145\n",
      "FN:           2737\n",
      "         Pred 0    Pred 1\n",
      "True 0    1145      420\n",
      "True 1    2737     2215\n"
     ]
    }
   ],
   "source": [
    "THRESHOLD=0.9\n",
    "\n",
    "y_pred = model.predict(X_test)\n",
    "y_pred = (y_pred > THRESHOLD).astype('int32')\n",
    "print(classification_report(y_test, y_pred))\n",
    "\n",
    "confusion_mtx = tf.math.confusion_matrix(y_test, y_pred)\n",
    "print_error_matrix(y_test,y_pred)"
   ]
  },
  {
   "cell_type": "markdown",
   "metadata": {},
   "source": [
    "## XGBoost"
   ]
  },
  {
   "cell_type": "code",
   "execution_count": null,
   "metadata": {},
   "outputs": [
    {
     "name": "stdout",
     "output_type": "stream",
     "text": [
      "              precision    recall  f1-score   support\n",
      "\n",
      "         0.0       0.38      0.40      0.39      1565\n",
      "         1.0       0.81      0.79      0.80      4952\n",
      "\n",
      "    accuracy                           0.70      6517\n",
      "   macro avg       0.59      0.59      0.59      6517\n",
      "weighted avg       0.70      0.70      0.70      6517\n",
      "\n",
      "Accuracy:     0.6979\n",
      "F1:           0.7996\n",
      "Precision:    0.8062\n",
      "Sensitivity:  0.7930\n",
      "Specificity:  0.3968\n",
      "MCC:          0.1866\n",
      "TP:           3927\n",
      "FP:           944\n",
      "TN:           621\n",
      "FN:           1025\n",
      "         Pred 0    Pred 1\n",
      "True 0     621      944\n",
      "True 1    1025     3927\n"
     ]
    }
   ],
   "source": [
    "model = xgb.XGBClassifier()\n",
    "model.fit(X_train, y_train)\n",
    "\n",
    "y_pred = model.predict(X_test)\n",
    "\n",
    "accuracy = accuracy_score(y_test, y_pred)\n",
    "print(classification_report(y_test, y_pred))\n",
    "print_error_matrix(y_test,y_pred)"
   ]
  },
  {
   "cell_type": "markdown",
   "metadata": {},
   "source": [
    "## LightGBM"
   ]
  },
  {
   "cell_type": "code",
   "execution_count": null,
   "metadata": {},
   "outputs": [
    {
     "name": "stdout",
     "output_type": "stream",
     "text": [
      "[LightGBM] [Info] Number of positive: 48290, number of negative: 16524\n",
      "[LightGBM] [Info] Auto-choosing col-wise multi-threading, the overhead of testing was 0.002630 seconds.\n",
      "You can set `force_col_wise=true` to remove the overhead.\n",
      "[LightGBM] [Info] Total Bins 7183\n",
      "[LightGBM] [Info] Number of data points in the train set: 64814, number of used features: 29\n",
      "[LightGBM] [Info] [binary:BoostFromScore]: pavg=0.745055 -> initscore=1.072411\n",
      "[LightGBM] [Info] Start training from score 1.072411\n",
      "              precision    recall  f1-score   support\n",
      "\n",
      "         0.0       0.43      0.41      0.42      1565\n",
      "         1.0       0.82      0.83      0.82      4952\n",
      "\n",
      "    accuracy                           0.73      6517\n",
      "   macro avg       0.62      0.62      0.62      6517\n",
      "weighted avg       0.72      0.73      0.73      6517\n",
      "\n",
      "Accuracy:     0.7282\n",
      "F1:           0.8226\n",
      "Precision:    0.8163\n",
      "Sensitivity:  0.8290\n",
      "Specificity:  0.4096\n",
      "MCC:          0.2428\n",
      "TP:           4105\n",
      "FP:           924\n",
      "TN:           641\n",
      "FN:           847\n",
      "         Pred 0    Pred 1\n",
      "True 0     641      924\n",
      "True 1     847     4105\n"
     ]
    },
    {
     "name": "stderr",
     "output_type": "stream",
     "text": [
      "c:\\Users\\Kuba\\AppData\\Local\\Programs\\Python\\Python311\\Lib\\site-packages\\sklearn\\utils\\validation.py:2739: UserWarning: X does not have valid feature names, but LGBMClassifier was fitted with feature names\n",
      "  warnings.warn(\n"
     ]
    }
   ],
   "source": [
    "model = lgb.LGBMClassifier()\n",
    "model.fit(X_train, y_train)\n",
    "\n",
    "y_pred = model.predict(X_test)\n",
    "\n",
    "accuracy = accuracy_score(y_test, y_pred)\n",
    "print(classification_report(y_test, y_pred))\n",
    "print_error_matrix(y_test,y_pred)"
   ]
  },
  {
   "cell_type": "markdown",
   "metadata": {},
   "source": [
    "## CatBoost"
   ]
  },
  {
   "cell_type": "code",
   "execution_count": null,
   "metadata": {},
   "outputs": [
    {
     "name": "stdout",
     "output_type": "stream",
     "text": [
      "              precision    recall  f1-score   support\n",
      "\n",
      "         0.0       0.47      0.35      0.40      1565\n",
      "         1.0       0.81      0.87      0.84      4952\n",
      "\n",
      "    accuracy                           0.75      6517\n",
      "   macro avg       0.64      0.61      0.62      6517\n",
      "weighted avg       0.73      0.75      0.74      6517\n",
      "\n",
      "Accuracy:     0.7485\n",
      "F1:           0.8408\n",
      "Precision:    0.8099\n",
      "Sensitivity:  0.8742\n",
      "Specificity:  0.3508\n",
      "MCC:          0.2503\n",
      "TP:           4329\n",
      "FP:           1016\n",
      "TN:           549\n",
      "FN:           623\n",
      "         Pred 0    Pred 1\n",
      "True 0     549     1016\n",
      "True 1     623     4329\n"
     ]
    }
   ],
   "source": [
    "model = CatBoostClassifier(verbose=0)\n",
    "model.fit(X_train, y_train)\n",
    "\n",
    "y_pred = model.predict(X_test)\n",
    "\n",
    "accuracy = accuracy_score(y_test, y_pred)\n",
    "print(classification_report(y_test, y_pred))\n",
    "print_error_matrix(y_test,y_pred)"
   ]
  },
  {
   "cell_type": "markdown",
   "metadata": {},
   "source": [
    "## SVM"
   ]
  },
  {
   "cell_type": "code",
   "execution_count": 4,
   "metadata": {},
   "outputs": [],
   "source": [
    "from sklearn.preprocessing import StandardScaler\n",
    "\n",
    "# Wczytanie danych\n",
    "train = pd.read_csv(\"dataset_train.csv\")\n",
    "test = pd.read_csv(\"dataset_test.csv\")\n",
    "\n",
    "# Przekształcenie kolumny 'arrytmia'\n",
    "test['arrytmia'] = test['arrytmia'].apply(lambda x: 1 if x > 1 else x)\n",
    "train['arrytmia'] = train['arrytmia'].apply(lambda x: 1 if x > 1 else x)\n",
    "\n",
    "test['arrytmia'] = test['arrytmia'].apply(lambda x: -1 if x == 0 else x)\n",
    "train['arrytmia'] = train['arrytmia'].apply(lambda x: -1 if x == 0 else x)\n",
    "\n",
    "# Przygotowanie danych\n",
    "X_train = train.iloc[:, 1:]  # zakładam, że pierwsza kolumna to np. indeks/czas\n",
    "y_train = train['arrytmia'].values\n",
    "\n",
    "X_test = test.iloc[:, 1:]\n",
    "y_test = test['arrytmia'].values\n",
    "\n",
    "# Normalizacja\n",
    "scaler = StandardScaler()\n",
    "X_train_scaled = pd.DataFrame(scaler.fit_transform(X_train), columns=X_train.columns)\n",
    "X_test_scaled = pd.DataFrame(scaler.transform(X_test), columns=X_test.columns)"
   ]
  },
  {
   "cell_type": "code",
   "execution_count": 6,
   "metadata": {},
   "outputs": [
    {
     "name": "stdout",
     "output_type": "stream",
     "text": [
      "              precision    recall  f1-score   support\n",
      "\n",
      "          -1       0.46      0.59      0.51      1565\n",
      "           1       0.86      0.78      0.82      4952\n",
      "\n",
      "    accuracy                           0.73      6517\n",
      "   macro avg       0.66      0.68      0.66      6517\n",
      "weighted avg       0.76      0.73      0.74      6517\n",
      "\n",
      "Accuracy:     0.7330\n",
      "F1:           0.8160\n",
      "Precision:    0.8566\n",
      "Sensitivity:  0.7791\n",
      "Specificity:  0.5872\n",
      "MCC:          0.3387\n",
      "TP:           3858\n",
      "FP:           646\n",
      "TN:           919\n",
      "FN:           1094\n",
      "         Pred 0    Pred 1\n",
      "True 0     919      646\n",
      "True 1    1094     3858\n"
     ]
    }
   ],
   "source": [
    "clf = SVC(kernel='linear')  # 'rbf', 'poly', 'sigmoid'\n",
    "clf.fit(X_train_scaled, y_train)\n",
    "\n",
    "y_pred = clf.predict(X_test_scaled)\n",
    "\n",
    "accuracy = accuracy_score(y_test, y_pred)\n",
    "print(classification_report(y_test, y_pred))\n",
    "print_error_matrix(y_test,y_pred)"
   ]
  },
  {
   "cell_type": "code",
   "execution_count": null,
   "metadata": {},
   "outputs": [
    {
     "name": "stdout",
     "output_type": "stream",
     "text": [
      "              precision    recall  f1-score   support\n",
      "\n",
      "         0.0       0.24      0.58      0.34      1565\n",
      "         1.0       0.75      0.40      0.53      4952\n",
      "\n",
      "    accuracy                           0.45      6517\n",
      "   macro avg       0.49      0.49      0.43      6517\n",
      "weighted avg       0.63      0.45      0.48      6517\n",
      "\n",
      "Accuracy:     0.4470\n",
      "F1:           0.5263\n",
      "Precision:    0.7538\n",
      "Sensitivity:  0.4043\n",
      "Specificity:  0.5821\n",
      "MCC:          -0.0118\n",
      "TP:           2002\n",
      "FP:           654\n",
      "TN:           911\n",
      "FN:           2950\n",
      "         Pred 0    Pred 1\n",
      "True 0     911      654\n",
      "True 1    2950     2002\n"
     ]
    }
   ],
   "source": [
    "from neo_ls_svm import NeoLSSVM\n",
    "\n",
    "model = NeoLSSVM().fit(X_train, y_train)\n",
    "y_pred = model.predict(X_test_scaled)\n",
    "\n",
    "accuracy = accuracy_score(y_test, y_pred)\n",
    "print(classification_report(y_test, y_pred))\n",
    "print_error_matrix(y_test,y_pred)"
   ]
  }
 ],
 "metadata": {
  "kernelspec": {
   "display_name": "Python 3",
   "language": "python",
   "name": "python3"
  },
  "language_info": {
   "codemirror_mode": {
    "name": "ipython",
    "version": 3
   },
   "file_extension": ".py",
   "mimetype": "text/x-python",
   "name": "python",
   "nbconvert_exporter": "python",
   "pygments_lexer": "ipython3",
   "version": "3.11.5"
  }
 },
 "nbformat": 4,
 "nbformat_minor": 2
}
