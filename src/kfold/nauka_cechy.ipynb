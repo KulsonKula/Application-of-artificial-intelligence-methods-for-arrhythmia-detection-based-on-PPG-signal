{
 "cells": [
  {
   "cell_type": "code",
   "execution_count": 5,
   "metadata": {},
   "outputs": [],
   "source": [
    "import pandas as pd\n",
    "import numpy as np\n",
    "import tensorflow as tf\n",
    "import matplotlib.pyplot as plt\n",
    "from tensorflow.keras.callbacks import LearningRateScheduler\n",
    "import seaborn as sns\n",
    "from sklearn.preprocessing import StandardScaler\n",
    "from sklearn.preprocessing import MinMaxScaler\n",
    "from tensorflow.keras import layers\n",
    "from tensorflow.keras import models\n",
    "from sklearn.metrics import confusion_matrix, matthews_corrcoef\n",
    "from sklearn.metrics import roc_curve, auc\n",
    "from sklearn.metrics import confusion_matrix\n",
    "import matplotlib.pyplot as plt\n",
    "\n",
    "from sklearn.neighbors import KNeighborsClassifier\n",
    "\n",
    "\n",
    "from sklearn.tree import DecisionTreeClassifier\n",
    "from sklearn.ensemble import RandomForestClassifier\n",
    "from sklearn.svm import SVC\n",
    "from sklearn.naive_bayes import GaussianNB\n",
    "\n",
    "from sklearn.preprocessing import MinMaxScaler\n",
    "\n",
    "import xgboost as xgb\n",
    "import lightgbm as lgb\n",
    "from catboost import CatBoostClassifier"
   ]
  },
  {
   "cell_type": "code",
   "execution_count": 6,
   "metadata": {},
   "outputs": [
    {
     "name": "stdout",
     "output_type": "stream",
     "text": [
      "Num GPUs Available:  0\n"
     ]
    }
   ],
   "source": [
    "print(\"Num GPUs Available: \", len(tf.config.list_physical_devices('GPU')))"
   ]
  },
  {
   "cell_type": "code",
   "execution_count": 7,
   "metadata": {},
   "outputs": [],
   "source": [
    "def print_error_matrix(y_test,y_pred):\n",
    "    confusion_mtx = tf.math.confusion_matrix(y_test, y_pred)\n",
    "    plt.figure(figsize=(10, 8))\n",
    "    sns.heatmap(confusion_mtx,\n",
    "                annot=True, fmt='g',\n",
    "                cmap='coolwarm')\n",
    "    plt.xlabel('Prediction')\n",
    "    plt.ylabel('True')\n",
    "    plt.show()\n",
    "\n",
    "\n",
    "def plot_ROC(fpr,tpr,roc_auc):\n",
    "    plt.figure()\n",
    "    plt.plot(fpr, tpr, color='darkorange', lw=2, label=f'ROC curve (AUC = {roc_auc:.2f})')\n",
    "    plt.plot([0, 1], [0, 1], color='navy', lw=2, linestyle='--') \n",
    "    plt.xlim([0.0, 1.0])\n",
    "    plt.ylim([0.0, 1.05])\n",
    "    plt.xlabel('False Positive Rate')\n",
    "    plt.ylabel('True Positive Rate')\n",
    "    plt.title('Receiver Operating Characteristic (ROC)')\n",
    "    plt.legend(loc=\"lower right\")\n",
    "    plt.grid(True)\n",
    "    plt.show()\n",
    "\n",
    "def specificity_score(y_true, y_pred):\n",
    "    tn, fp, fn, tp = confusion_matrix(y_true, y_pred).ravel()\n",
    "    return tn / (tn + fp) if (tn + fp) > 0 else 0\n",
    "\n",
    "def evaluate_model_on_folds(model, folds=5, prefix=\"data/fold_\", scaler=\"MinMaxScaler\"):\n",
    "    metrics = {\n",
    "        'acc': [],\n",
    "        'f1': [],\n",
    "        'precision': [],\n",
    "        'recall': [],\n",
    "        'specificity': [],\n",
    "        'mcc': [],\n",
    "        'nMCC': [],\n",
    "        'fc': []\n",
    "    }\n",
    "\n",
    "    for i in range(folds):\n",
    "        train = pd.read_csv(f\"{prefix}{i+1}_train.csv\")\n",
    "        test = pd.read_csv(f\"{prefix}{i+1}_test.csv\")\n",
    "\n",
    "        # Binarization\n",
    "        train['arrytmia'] = train['arrytmia'].apply(lambda x: 1 if x > 1 else x)\n",
    "        test['arrytmia'] = test['arrytmia'].apply(lambda x: 1 if x > 1 else x)\n",
    "\n",
    "        if scaler == \"MinMaxScaler\":\n",
    "            scaler_obj = MinMaxScaler()\n",
    "        else:\n",
    "            test['arrytmia'] = test['arrytmia'].apply(lambda x: -1 if x == 0 else x)\n",
    "            train['arrytmia'] = train['arrytmia'].apply(lambda x: -1 if x == 0 else x)\n",
    "            scaler_obj = StandardScaler()\n",
    "\n",
    "        X_train = train.iloc[:, 1:]\n",
    "        y_train = train['arrytmia'].values\n",
    "\n",
    "        X_test = test.iloc[:, 1:]\n",
    "        y_test = test['arrytmia'].values\n",
    "\n",
    "        X_train = pd.DataFrame(scaler_obj.fit_transform(X_train), columns=X_train.columns)\n",
    "        X_test = pd.DataFrame(scaler_obj.transform(X_test), columns=X_test.columns)\n",
    "\n",
    "        model.fit(X_train, y_train)\n",
    "        y_pred = model.predict(X_test)\n",
    "\n",
    "        cm = confusion_matrix(y_test, y_pred)\n",
    "        tn, fp, fn, tp = cm.ravel()\n",
    "\n",
    "        acc = (tp + tn) / (tp + tn + fp + fn) if (tp + tn + fp + fn) > 0 else 0\n",
    "        precision = tp / (tp + fp) if (tp + fp) > 0 else 0\n",
    "        recall = tp / (tp + fn) if (tp + fn) > 0 else 0\n",
    "        specificity = tn / (tn + fp) if (tn + fp) > 0 else 0\n",
    "        f1 = 2 * tp / (2 * tp + fp + fn) if (2 * tp + fp + fn) > 0 else 0\n",
    "\n",
    "        mcc = matthews_corrcoef(y_test, y_pred)\n",
    "        nMCC = (mcc + 1) / 2\n",
    "\n",
    "        fc = 0.5 * f1 + 0.3 * specificity + 0.2 * nMCC\n",
    "\n",
    "        metrics['acc'].append(acc)\n",
    "        metrics['f1'].append(f1)\n",
    "        metrics['precision'].append(precision)\n",
    "        metrics['recall'].append(recall)\n",
    "        metrics['specificity'].append(specificity)\n",
    "        metrics['mcc'].append(mcc)\n",
    "        metrics['nMCC'].append(nMCC)\n",
    "        metrics['fc'].append(fc)\n",
    "\n",
    "    def mean_std_str(metric_list):\n",
    "        mean = np.mean(metric_list)\n",
    "        std = np.std(metric_list)\n",
    "        return f\"{mean:.2f} $\\pm$ {std:.2f}\"\n",
    "\n",
    "    print(f\"Accuracy:     {mean_std_str(metrics['acc'])}\")\n",
    "    print(f\"Specificity:  {mean_std_str(metrics['specificity'])}\")\n",
    "    print(f\"F1-score:     {mean_std_str(metrics['f1'])}\")\n",
    "    # print(f\"Precision:    {mean_std_str(metrics['precision'])}\")\n",
    "    # print(f\"Sensitivity:  {mean_std_str(metrics['recall'])}\")\n",
    "    # print(f\"MCC:          {mean_std_str(metrics['mcc'])}\")\n",
    "    print(f\"nMCC:         {mean_std_str(metrics['nMCC'])}\")\n",
    "    print(f\"Funkcja celu: {mean_std_str(metrics['fc'])}\")"
   ]
  },
  {
   "cell_type": "markdown",
   "metadata": {},
   "source": [
    "## KNN"
   ]
  },
  {
   "cell_type": "code",
   "execution_count": 28,
   "metadata": {},
   "outputs": [
    {
     "name": "stdout",
     "output_type": "stream",
     "text": [
      "Accuracy:     0.83 $\\pm$ 0.01\n",
      "Specificity:  0.74 $\\pm$ 0.03\n",
      "F1-score:     0.87 $\\pm$ 0.01\n",
      "nMCC:         0.82 $\\pm$ 0.01\n",
      "Funkcja celu: 0.82 $\\pm$ 0.01\n"
     ]
    }
   ],
   "source": [
    "knn = KNeighborsClassifier(n_neighbors=50)\n",
    "evaluate_model_on_folds(knn)\n"
   ]
  },
  {
   "cell_type": "markdown",
   "metadata": {},
   "source": [
    "## DecisionTree"
   ]
  },
  {
   "cell_type": "code",
   "execution_count": 29,
   "metadata": {},
   "outputs": [
    {
     "name": "stdout",
     "output_type": "stream",
     "text": [
      "Accuracy:     0.83 $\\pm$ 0.01\n",
      "Specificity:  0.77 $\\pm$ 0.02\n",
      "F1-score:     0.86 $\\pm$ 0.00\n",
      "nMCC:         0.83 $\\pm$ 0.01\n",
      "Funkcja celu: 0.83 $\\pm$ 0.01\n"
     ]
    }
   ],
   "source": [
    "Dtree = DecisionTreeClassifier(max_depth=30)  \n",
    "evaluate_model_on_folds(Dtree)"
   ]
  },
  {
   "cell_type": "markdown",
   "metadata": {},
   "source": [
    "## RandomForest"
   ]
  },
  {
   "cell_type": "code",
   "execution_count": 4,
   "metadata": {},
   "outputs": [
    {
     "name": "stdout",
     "output_type": "stream",
     "text": [
      "Accuracy:     0.84 $\\pm$ 0.01\n",
      "Specificity:  0.72 $\\pm$ 0.03\n",
      "F1-score:     0.87 $\\pm$ 0.01\n",
      "nMCC:         0.83 $\\pm$ 0.01\n",
      "Funkcja celu: 0.82 $\\pm$ 0.01\n"
     ]
    }
   ],
   "source": [
    "Rforest = RandomForestClassifier(n_estimators=100, max_depth=10, random_state=42)\n",
    "evaluate_model_on_folds(Rforest)"
   ]
  },
  {
   "cell_type": "markdown",
   "metadata": {},
   "source": [
    "## SVM"
   ]
  },
  {
   "cell_type": "markdown",
   "metadata": {},
   "source": [
    "## klasyfikator Naive Bayes"
   ]
  },
  {
   "cell_type": "code",
   "execution_count": 31,
   "metadata": {},
   "outputs": [
    {
     "name": "stdout",
     "output_type": "stream",
     "text": [
      "Accuracy:     0.50 $\\pm$ 0.04\n",
      "Specificity:  0.33 $\\pm$ 0.28\n",
      "F1-score:     0.57 $\\pm$ 0.17\n",
      "nMCC:         0.47 $\\pm$ 0.02\n",
      "Funkcja celu: 0.48 $\\pm$ 0.01\n"
     ]
    }
   ],
   "source": [
    "NBayes = GaussianNB()\n",
    "evaluate_model_on_folds(NBayes)"
   ]
  },
  {
   "cell_type": "markdown",
   "metadata": {},
   "source": [
    "## XGBoost"
   ]
  },
  {
   "cell_type": "code",
   "execution_count": 32,
   "metadata": {},
   "outputs": [
    {
     "name": "stdout",
     "output_type": "stream",
     "text": [
      "Accuracy:     0.86 $\\pm$ 0.01\n",
      "Specificity:  0.81 $\\pm$ 0.02\n",
      "F1-score:     0.89 $\\pm$ 0.01\n",
      "nMCC:         0.86 $\\pm$ 0.01\n",
      "Funkcja celu: 0.86 $\\pm$ 0.01\n"
     ]
    }
   ],
   "source": [
    "XGBoost = xgb.XGBClassifier()\n",
    "evaluate_model_on_folds(XGBoost)"
   ]
  },
  {
   "cell_type": "markdown",
   "metadata": {},
   "source": [
    "## LightGBM"
   ]
  },
  {
   "cell_type": "code",
   "execution_count": 33,
   "metadata": {},
   "outputs": [
    {
     "name": "stdout",
     "output_type": "stream",
     "text": [
      "Accuracy:     0.85 $\\pm$ 0.01\n",
      "Specificity:  0.78 $\\pm$ 0.03\n",
      "F1-score:     0.88 $\\pm$ 0.01\n",
      "nMCC:         0.84 $\\pm$ 0.01\n",
      "Funkcja celu: 0.84 $\\pm$ 0.01\n"
     ]
    }
   ],
   "source": [
    "LightGBM = lgb.LGBMClassifier(verbose=-1)\n",
    "evaluate_model_on_folds(LightGBM)"
   ]
  },
  {
   "cell_type": "markdown",
   "metadata": {},
   "source": [
    "## CatBoost"
   ]
  },
  {
   "cell_type": "code",
   "execution_count": 34,
   "metadata": {},
   "outputs": [
    {
     "name": "stdout",
     "output_type": "stream",
     "text": [
      "Accuracy:     0.86 $\\pm$ 0.01\n",
      "Specificity:  0.81 $\\pm$ 0.02\n",
      "F1-score:     0.89 $\\pm$ 0.01\n",
      "nMCC:         0.86 $\\pm$ 0.01\n",
      "Funkcja celu: 0.86 $\\pm$ 0.01\n"
     ]
    }
   ],
   "source": [
    "CatB = CatBoostClassifier(verbose=0)\n",
    "evaluate_model_on_folds(CatB)"
   ]
  },
  {
   "cell_type": "markdown",
   "metadata": {},
   "source": [
    "## Neural Network"
   ]
  },
  {
   "cell_type": "code",
   "execution_count": 4,
   "metadata": {},
   "outputs": [],
   "source": [
    "import numpy as np\n",
    "import pandas as pd\n",
    "from sklearn.preprocessing import MinMaxScaler\n",
    "from sklearn.metrics import (\n",
    "    precision_score, recall_score, f1_score, accuracy_score,\n",
    "    matthews_corrcoef, roc_curve, auc, confusion_matrix\n",
    ")\n",
    "import matplotlib.pyplot as plt\n",
    "\n",
    "def evaluate_given_keras_model(model_builder, scheduler=None, folds=5, prefix=\"data/fold_\", epochs=10, batch_size=32, thresholds=[0.5]):\n",
    "    auc_scores = []\n",
    "    all_y_true = []\n",
    "    all_y_pred_prob = []\n",
    "    mean_fpr = np.linspace(0, 1, 100)\n",
    "    tprs = []\n",
    "\n",
    "    for i in range(folds):\n",
    "        train = pd.read_csv(f\"{prefix}{i+1}_train.csv\")\n",
    "        test = pd.read_csv(f\"{prefix}{i+1}_test.csv\")\n",
    "\n",
    "        train['arrytmia'] = train['arrytmia'].apply(lambda x: 1 if x > 1 else x)\n",
    "        test['arrytmia'] = test['arrytmia'].apply(lambda x: 1 if x > 1 else x)\n",
    "\n",
    "        scaler = MinMaxScaler()\n",
    "        train = pd.DataFrame(scaler.fit_transform(train), columns=train.columns)\n",
    "        test = pd.DataFrame(scaler.transform(test), columns=test.columns)\n",
    "\n",
    "        X_train = train.iloc[:, 1:].values\n",
    "        y_train = train['arrytmia'].values\n",
    "        X_test = test.iloc[:, 1:].values\n",
    "        y_test = test['arrytmia'].values\n",
    "\n",
    "        model = model_builder(X_train.shape[1])\n",
    "        callbacks = [scheduler] if scheduler else []\n",
    "\n",
    "        model.fit(X_train, y_train, epochs=epochs, batch_size=batch_size, verbose=0, callbacks=callbacks)\n",
    "        y_pred_prob = model.predict(X_test).ravel()\n",
    "\n",
    "        all_y_pred_prob.append(y_pred_prob)\n",
    "        all_y_true.append(y_test)\n",
    "\n",
    "        # ROC\n",
    "        fpr, tpr, _ = roc_curve(y_test, y_pred_prob)\n",
    "        interp_tpr = np.interp(mean_fpr, fpr, tpr)\n",
    "        interp_tpr[0] = 0.0\n",
    "        tprs.append(interp_tpr)\n",
    "        auc_scores.append(auc(fpr, tpr))\n",
    "\n",
    "    print(\"\\nWyniki dla różnych wartości threshold:\")\n",
    "\n",
    "    all_y_true = np.concatenate(all_y_true)\n",
    "    all_y_pred_prob = np.concatenate(all_y_pred_prob)\n",
    "\n",
    "    for thresh in thresholds:\n",
    "        accuracies, f1s, precisions, recalls, specificities, mccs, n_mccs, fcs = [], [], [], [], [], [], [], []\n",
    "\n",
    "        start = 0\n",
    "        for i in range(folds):\n",
    "            fold_len = len(all_y_true) // folds\n",
    "            end = start + fold_len if i < folds - 1 else len(all_y_true)\n",
    "\n",
    "            y_true_fold = all_y_true[start:end]\n",
    "            y_prob_fold = all_y_pred_prob[start:end]\n",
    "            y_pred_fold = (y_prob_fold >= thresh).astype(int)\n",
    "\n",
    "            cm = confusion_matrix(y_true_fold, y_pred_fold, labels=[0, 1])\n",
    "            tn, fp, fn, tp = cm.ravel()\n",
    "\n",
    "            acc = accuracy_score(y_true_fold, y_pred_fold)\n",
    "            f1 = f1_score(y_true_fold, y_pred_fold, zero_division=0)\n",
    "            prec = precision_score(y_true_fold, y_pred_fold, zero_division=0)\n",
    "            rec = recall_score(y_true_fold, y_pred_fold, zero_division=0)\n",
    "            spec = tn / (tn + fp) if (tn + fp) > 0 else 0\n",
    "            mcc = matthews_corrcoef(y_true_fold, y_pred_fold)\n",
    "            n_mcc = (mcc + 1) / 2\n",
    "            fc = 0.5 * f1 + 0.3 * spec + 0.2 * n_mcc\n",
    "\n",
    "            accuracies.append(acc)\n",
    "            f1s.append(f1)\n",
    "            precisions.append(prec)\n",
    "            recalls.append(rec)\n",
    "            specificities.append(spec)\n",
    "            mccs.append(mcc)\n",
    "            n_mccs.append(n_mcc)\n",
    "            fcs.append(fc)\n",
    "\n",
    "            start = end\n",
    "\n",
    "        def mean_std_str(metric_list):\n",
    "            return f\"{np.mean(metric_list):.2f} ± {np.std(metric_list):.2f}\"\n",
    "\n",
    "        print(f\"\\nThreshold = {thresh}\")\n",
    "        print(f\"Accuracy:     {mean_std_str(accuracies)}\")\n",
    "        print(f\"F1-score:     {mean_std_str(f1s)}\")\n",
    "        print(f\"Precision:    {mean_std_str(precisions)}\")\n",
    "        print(f\"Sensitivity:  {mean_std_str(recalls)}\")\n",
    "        print(f\"Specificity:  {mean_std_str(specificities)}\")\n",
    "        print(f\"MCC:          {mean_std_str(mccs)}\")\n",
    "        print(f\"nMCC:         {mean_std_str(n_mccs)}\")\n",
    "        print(f\"Funkcja celu: {mean_std_str(fcs)}\")\n",
    "\n",
    "    mean_auc = np.mean(auc_scores)\n",
    "    print(f\"\\nŚredni AUC: {mean_auc:.2f}\")\n",
    "\n",
    "    # Średnia krzywa ROC\n",
    "    mean_tpr = np.mean(tprs, axis=0)\n",
    "    mean_tpr[-1] = 1.0\n",
    "    plt.figure(figsize=(8, 6))\n",
    "    plt.plot(mean_fpr, mean_tpr, label=f'ROC (AUC = {mean_auc:.2f})')\n",
    "    plt.plot([0, 1], [0, 1], linestyle='--', color='gray')\n",
    "    plt.xlabel('False Positive Rate')\n",
    "    plt.ylabel('True Positive Rate')\n",
    "    plt.title('Średnia krzywa ROC (5-fold)')\n",
    "    plt.legend(loc='lower right')\n",
    "    plt.grid(True)\n",
    "    plt.show()\n"
   ]
  },
  {
   "cell_type": "code",
   "execution_count": 5,
   "metadata": {},
   "outputs": [
    {
     "name": "stdout",
     "output_type": "stream",
     "text": [
      "\u001b[1m284/284\u001b[0m \u001b[32m━━━━━━━━━━━━━━━━━━━━\u001b[0m\u001b[37m\u001b[0m \u001b[1m0s\u001b[0m 983us/step\n",
      "\u001b[1m280/280\u001b[0m \u001b[32m━━━━━━━━━━━━━━━━━━━━\u001b[0m\u001b[37m\u001b[0m \u001b[1m0s\u001b[0m 972us/step\n",
      "\u001b[1m287/287\u001b[0m \u001b[32m━━━━━━━━━━━━━━━━━━━━\u001b[0m\u001b[37m\u001b[0m \u001b[1m0s\u001b[0m 971us/step\n",
      "\u001b[1m285/285\u001b[0m \u001b[32m━━━━━━━━━━━━━━━━━━━━\u001b[0m\u001b[37m\u001b[0m \u001b[1m0s\u001b[0m 970us/step\n",
      "\u001b[1m286/286\u001b[0m \u001b[32m━━━━━━━━━━━━━━━━━━━━\u001b[0m\u001b[37m\u001b[0m \u001b[1m0s\u001b[0m 974us/step\n",
      "\n",
      "Wyniki dla różnych wartości threshold:\n",
      "\n",
      "Threshold = 0.3\n",
      "Accuracy:     0.80 ± 0.01\n",
      "F1-score:     0.85 ± 0.01\n",
      "Precision:    0.77 ± 0.02\n",
      "Sensitivity:  0.95 ± 0.01\n",
      "Specificity:  0.57 ± 0.04\n",
      "MCC:          0.59 ± 0.02\n",
      "nMCC:         0.79 ± 0.01\n",
      "Funkcja celu: 0.76 ± 0.02\n",
      "\n",
      "Threshold = 0.5\n",
      "Accuracy:     0.82 ± 0.01\n",
      "F1-score:     0.85 ± 0.01\n",
      "Precision:    0.84 ± 0.02\n",
      "Sensitivity:  0.88 ± 0.04\n",
      "Specificity:  0.73 ± 0.05\n",
      "MCC:          0.62 ± 0.02\n",
      "nMCC:         0.81 ± 0.01\n",
      "Funkcja celu: 0.81 ± 0.02\n",
      "\n",
      "Threshold = 0.7\n",
      "Accuracy:     0.81 ± 0.02\n",
      "F1-score:     0.83 ± 0.03\n",
      "Precision:    0.88 ± 0.02\n",
      "Sensitivity:  0.78 ± 0.06\n",
      "Specificity:  0.84 ± 0.04\n",
      "MCC:          0.61 ± 0.03\n",
      "nMCC:         0.81 ± 0.02\n",
      "Funkcja celu: 0.83 ± 0.01\n",
      "\n",
      "Średni AUC: 0.89\n"
     ]
    },
    {
     "data": {
      "image/png": "[encoded data removed]",
      "text/plain": [
       "<Figure size 800x600 with 1 Axes>"
      ]
     },
     "metadata": {},
     "output_type": "display_data"
    }
   ],
   "source": [
    "def custom_scheduler(epoch, lr):\n",
    "    if epoch < 5:\n",
    "        return lr\n",
    "    else:\n",
    "        return float(lr * tf.math.exp(-0.1))\n",
    "\n",
    "def build_model(input_dim):\n",
    "    model = models.Sequential([\n",
    "        layers.Input(shape=(input_dim,)),\n",
    "        layers.Dense(1024, activation='relu'), \n",
    "        layers.Dense(512, activation='relu'),\n",
    "        layers.Dense(256, activation='relu'),\n",
    "        layers.Dense(128, activation='relu'), \n",
    "        layers.Dense(1, activation='sigmoid') \n",
    "    ])\n",
    "    model.compile(optimizer='adam', loss='binary_crossentropy', metrics=['accuracy'])\n",
    "    return model\n",
    "\n",
    "scheduler = LearningRateScheduler(custom_scheduler)\n",
    "evaluate_given_keras_model(build_model,thresholds=[0.3, 0.5, 0.7], scheduler=scheduler, epochs=10, batch_size=64)\n"
   ]
  },
  {
   "cell_type": "code",
   "execution_count": 11,
   "metadata": {},
   "outputs": [
    {
     "name": "stdout",
     "output_type": "stream",
     "text": [
      "Accuracy:     0.79 $\\pm$ 0.01\n",
      "Specificity:  0.61 $\\pm$ 0.03\n",
      "F1-score:     0.84 $\\pm$ 0.01\n",
      "nMCC:         0.78 $\\pm$ 0.01\n",
      "Funkcja celu: 0.76 $\\pm$ 0.01\n"
     ]
    }
   ],
   "source": [
    "SVM = SVC(kernel='rbf')\n",
    "evaluate_model_on_folds(SVM,scaler=\"inny\")"
   ]
  },
  {
   "cell_type": "code",
   "execution_count": 5,
   "metadata": {},
   "outputs": [
    {
     "name": "stdout",
     "output_type": "stream",
     "text": [
      "Accuracy:     0.78 $\\pm$ 0.01\n",
      "Specificity:  0.61 $\\pm$ 0.02\n",
      "F1-score:     0.83 $\\pm$ 0.01\n",
      "nMCC:         0.76 $\\pm$ 0.01\n",
      "Funkcja celu: 0.75 $\\pm$ 0.01\n"
     ]
    }
   ],
   "source": [
    "from neo_ls_svm import NeoLSSVM\n",
    "\n",
    "model = NeoLSSVM()\n",
    "evaluate_model_on_folds(model,scaler=\"inny\")\n"
   ]
  }
 ],
 "metadata": {
  "kernelspec": {
   "display_name": "Python 3",
   "language": "python",
   "name": "python3"
  },
  "language_info": {
   "codemirror_mode": {
    "name": "ipython",
    "version": 3
   },
   "file_extension": ".py",
   "mimetype": "text/x-python",
   "name": "python",
   "nbconvert_exporter": "python",
   "pygments_lexer": "ipython3",
   "version": "3.11.5"
  }
 },
 "nbformat": 4,
 "nbformat_minor": 2
}
