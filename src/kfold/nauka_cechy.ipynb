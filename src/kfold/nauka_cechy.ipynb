{
 "cells": [
  {
   "cell_type": "code",
   "execution_count": 3,
   "metadata": {},
   "outputs": [],
   "source": [
    "import pandas as pd\n",
    "import numpy as np\n",
    "import tensorflow as tf\n",
    "import matplotlib.pyplot as plt\n",
    "from tensorflow.keras.callbacks import LearningRateScheduler\n",
    "import seaborn as sns\n",
    "from sklearn.preprocessing import StandardScaler\n",
    "from sklearn.preprocessing import MinMaxScaler\n",
    "from tensorflow.keras import layers\n",
    "from tensorflow.keras import models\n",
    "\n",
    "from sklearn.metrics import roc_curve, auc\n",
    "from sklearn.metrics import confusion_matrix\n",
    "import matplotlib.pyplot as plt\n",
    "\n",
    "from sklearn.neighbors import KNeighborsClassifier\n",
    "\n",
    "\n",
    "from sklearn.tree import DecisionTreeClassifier\n",
    "from sklearn.ensemble import RandomForestClassifier\n",
    "from sklearn.svm import SVC\n",
    "from sklearn.naive_bayes import GaussianNB\n",
    "\n",
    "from sklearn.preprocessing import MinMaxScaler\n",
    "\n",
    "import xgboost as xgb\n",
    "import lightgbm as lgb\n",
    "from catboost import CatBoostClassifier"
   ]
  },
  {
   "cell_type": "code",
   "execution_count": 4,
   "metadata": {},
   "outputs": [
    {
     "name": "stdout",
     "output_type": "stream",
     "text": [
      "Num GPUs Available:  0\n"
     ]
    }
   ],
   "source": [
    "print(\"Num GPUs Available: \", len(tf.config.list_physical_devices('GPU')))"
   ]
  },
  {
   "cell_type": "code",
   "execution_count": 5,
   "metadata": {},
   "outputs": [],
   "source": [
    "def print_error_matrix(y_test,y_pred):\n",
    "    confusion_mtx = tf.math.confusion_matrix(y_test, y_pred)\n",
    "    plt.figure(figsize=(10, 8))\n",
    "    sns.heatmap(confusion_mtx,\n",
    "                annot=True, fmt='g',\n",
    "                cmap='coolwarm')\n",
    "    plt.xlabel('Prediction')\n",
    "    plt.ylabel('True')\n",
    "    plt.show()\n",
    "\n",
    "\n",
    "def plot_ROC(fpr,tpr,roc_auc):\n",
    "    plt.figure()\n",
    "    plt.plot(fpr, tpr, color='darkorange', lw=2, label=f'ROC curve (AUC = {roc_auc:.2f})')\n",
    "    plt.plot([0, 1], [0, 1], color='navy', lw=2, linestyle='--') \n",
    "    plt.xlim([0.0, 1.0])\n",
    "    plt.ylim([0.0, 1.05])\n",
    "    plt.xlabel('False Positive Rate')\n",
    "    plt.ylabel('True Positive Rate')\n",
    "    plt.title('Receiver Operating Characteristic (ROC)')\n",
    "    plt.legend(loc=\"lower right\")\n",
    "    plt.grid(True)\n",
    "    plt.show()\n",
    "\n",
    "def specificity_score(y_true, y_pred):\n",
    "    tn, fp, fn, tp = confusion_matrix(y_true, y_pred).ravel()\n",
    "    return tn / (tn + fp) if (tn + fp) > 0 else 0\n",
    "\n",
    "def evaluate_model_on_folds(model, folds=5, prefix=\"data/fold_\",scaler=\"MinMaxScaler\"):\n",
    "    metrics = {\n",
    "        'acc': [],\n",
    "        'f1': [],\n",
    "        'precision': [],\n",
    "        'recall': [],\n",
    "        'specificity': []\n",
    "    }\n",
    "\n",
    "    for i in range(folds):\n",
    "        train = pd.read_csv(f\"{prefix}{i+1}_train.csv\")\n",
    "        test = pd.read_csv(f\"{prefix}{i+1}_test.csv\")\n",
    "        \n",
    "        \n",
    "\n",
    "        if scaler==\"MinMaxScaler\":\n",
    "            test['arrytmia'] = test['arrytmia'].apply(lambda x: 1 if x > 1 else x)\n",
    "            train['arrytmia'] = train['arrytmia'].apply(lambda x: 1 if x > 1 else x)\n",
    "            scaler = MinMaxScaler()\n",
    "            train = pd.DataFrame(scaler.fit_transform(train), columns=train.columns)\n",
    "            test = pd.DataFrame(scaler.transform(test), columns=test.columns)\n",
    "\n",
    "            X_train = train.iloc[:, 1:].values\n",
    "            y_train = train['arrytmia'].values\n",
    "\n",
    "            X_test = test.iloc[:, 1:].values\n",
    "            y_test = test['arrytmia'].values\n",
    "        else:\n",
    "            # Przekształcenie kolumny 'arrytmia'\n",
    "            test['arrytmia'] = test['arrytmia'].apply(lambda x: 1 if x > 1 else x)\n",
    "            train['arrytmia'] = train['arrytmia'].apply(lambda x: 1 if x > 1 else x)\n",
    "\n",
    "            test['arrytmia'] = test['arrytmia'].apply(lambda x: -1 if x == 0 else x)\n",
    "            train['arrytmia'] = train['arrytmia'].apply(lambda x: -1 if x == 0 else x)\n",
    "\n",
    "            # Przygotowanie danych\n",
    "            X_train = train.iloc[:, 1:]\n",
    "            y_train = train['arrytmia'].values\n",
    "\n",
    "            X_test = test.iloc[:, 1:]\n",
    "            y_test = test['arrytmia'].values\n",
    "\n",
    "            # Normalizacja\n",
    "            scaler = StandardScaler()\n",
    "            X_train = pd.DataFrame(scaler.fit_transform(X_train), columns=X_train.columns)\n",
    "            X_test = pd.DataFrame(scaler.transform(X_test), columns=X_test.columns)\n",
    "        \n",
    "\n",
    "        model.fit(X_train, y_train)\n",
    "        y_pred = model.predict(X_test)\n",
    "        \n",
    "        cm = confusion_matrix(y_test, y_pred)\n",
    "        tn, fp, fn, tp = cm.ravel()\n",
    "\n",
    "        acc = (tp + tn) / (tp + tn + fp + fn) if (tp + tn + fp + fn) > 0 else 0\n",
    "        precision = tp / (tp + fp) if (tp + fp) > 0 else 0\n",
    "        recall = tp / (tp + fn) if (tp + fn) > 0 else 0\n",
    "        specificity = tn / (tn + fp) if (tn + fp) > 0 else 0\n",
    "        f1 = 2 * tp / (2 * tp + fp + fn) if (2 * tp + fp + fn) > 0 else 0\n",
    "\n",
    "        metrics['acc'].append(acc)\n",
    "        metrics['f1'].append(f1)\n",
    "        metrics['precision'].append(precision)\n",
    "        metrics['recall'].append(recall)\n",
    "        metrics['specificity'].append(specificity)\n",
    "\n",
    "    def mean_std_str(metric_list):\n",
    "        mean = np.mean(metric_list)\n",
    "        std = np.std(metric_list)\n",
    "        return f\"{mean:.4f} ± {std:.4f}\"\n",
    "\n",
    "    print(f\"Accuracy:     {mean_std_str(metrics['acc'])}\")\n",
    "    print(f\"F1:           {mean_std_str(metrics['f1'])}\")\n",
    "    print(f\"Precision:    {mean_std_str(metrics['precision'])}\")\n",
    "    print(f\"Sensitivity:  {mean_std_str(metrics['recall'])}\")\n",
    "    print(f\"Specificity:  {mean_std_str(metrics['specificity'])}\")"
   ]
  },
  {
   "cell_type": "markdown",
   "metadata": {},
   "source": [
    "## KNN"
   ]
  },
  {
   "cell_type": "code",
   "execution_count": 10,
   "metadata": {},
   "outputs": [
    {
     "name": "stdout",
     "output_type": "stream",
     "text": [
      "Accuracy:     0.8313 ± 0.0098\n",
      "F1:           0.8649 ± 0.0066\n",
      "Precision:    0.8401 ± 0.0136\n",
      "Sensitivity:  0.8913 ± 0.0025\n",
      "Specificity:  0.7394 ± 0.0266\n"
     ]
    }
   ],
   "source": [
    "knn = KNeighborsClassifier(n_neighbors=50)\n",
    "evaluate_model_on_folds(knn)\n"
   ]
  },
  {
   "cell_type": "markdown",
   "metadata": {},
   "source": [
    "## DecisionTree"
   ]
  },
  {
   "cell_type": "code",
   "execution_count": 11,
   "metadata": {},
   "outputs": [
    {
     "name": "stdout",
     "output_type": "stream",
     "text": [
      "Accuracy:     0.8277 ± 0.0105\n",
      "F1:           0.8591 ± 0.0080\n",
      "Precision:    0.8506 ± 0.0111\n",
      "Sensitivity:  0.8679 ± 0.0065\n",
      "Specificity:  0.7661 ± 0.0196\n"
     ]
    }
   ],
   "source": [
    "Dtree = DecisionTreeClassifier(max_depth=30)  \n",
    "evaluate_model_on_folds(Dtree)"
   ]
  },
  {
   "cell_type": "markdown",
   "metadata": {},
   "source": [
    "## RandomForest"
   ]
  },
  {
   "cell_type": "code",
   "execution_count": 12,
   "metadata": {},
   "outputs": [
    {
     "name": "stdout",
     "output_type": "stream",
     "text": [
      "Accuracy:     0.6853 ± 0.0071\n",
      "F1:           0.7872 ± 0.0050\n",
      "Precision:    0.6664 ± 0.0050\n",
      "Sensitivity:  0.9614 ± 0.0061\n",
      "Specificity:  0.2618 ± 0.0118\n"
     ]
    }
   ],
   "source": [
    "Rforest = RandomForestClassifier(n_estimators=100, max_depth=3, random_state=42)\n",
    "evaluate_model_on_folds(Rforest)"
   ]
  },
  {
   "cell_type": "markdown",
   "metadata": {},
   "source": [
    "## SVM"
   ]
  },
  {
   "cell_type": "markdown",
   "metadata": {},
   "source": [
    "## klasyfikator Naive Bayes"
   ]
  },
  {
   "cell_type": "code",
   "execution_count": 14,
   "metadata": {},
   "outputs": [
    {
     "name": "stdout",
     "output_type": "stream",
     "text": [
      "Accuracy:     0.4279 ± 0.0075\n",
      "F1:           0.2175 ± 0.0361\n",
      "Precision:    0.6366 ± 0.0389\n",
      "Sensitivity:  0.1324 ± 0.0256\n",
      "Specificity:  0.8812 ± 0.0330\n"
     ]
    }
   ],
   "source": [
    "NBayes = GaussianNB()\n",
    "evaluate_model_on_folds(NBayes)"
   ]
  },
  {
   "cell_type": "markdown",
   "metadata": {},
   "source": [
    "## XGBoost"
   ]
  },
  {
   "cell_type": "code",
   "execution_count": 15,
   "metadata": {},
   "outputs": [
    {
     "name": "stdout",
     "output_type": "stream",
     "text": [
      "Accuracy:     0.8598 ± 0.0113\n",
      "F1:           0.8855 ± 0.0086\n",
      "Precision:    0.8764 ± 0.0129\n",
      "Sensitivity:  0.8947 ± 0.0050\n",
      "Specificity:  0.8063 ± 0.0224\n"
     ]
    }
   ],
   "source": [
    "XGBoost = xgb.XGBClassifier()\n",
    "evaluate_model_on_folds(XGBoost)"
   ]
  },
  {
   "cell_type": "markdown",
   "metadata": {},
   "source": [
    "## LightGBM"
   ]
  },
  {
   "cell_type": "code",
   "execution_count": 16,
   "metadata": {},
   "outputs": [
    {
     "name": "stderr",
     "output_type": "stream",
     "text": [
      "c:\\Users\\Kuba\\AppData\\Local\\Programs\\Python\\Python311\\Lib\\site-packages\\sklearn\\utils\\validation.py:2739: UserWarning: X does not have valid feature names, but LGBMClassifier was fitted with feature names\n",
      "  warnings.warn(\n",
      "c:\\Users\\Kuba\\AppData\\Local\\Programs\\Python\\Python311\\Lib\\site-packages\\sklearn\\utils\\validation.py:2739: UserWarning: X does not have valid feature names, but LGBMClassifier was fitted with feature names\n",
      "  warnings.warn(\n",
      "c:\\Users\\Kuba\\AppData\\Local\\Programs\\Python\\Python311\\Lib\\site-packages\\sklearn\\utils\\validation.py:2739: UserWarning: X does not have valid feature names, but LGBMClassifier was fitted with feature names\n",
      "  warnings.warn(\n",
      "c:\\Users\\Kuba\\AppData\\Local\\Programs\\Python\\Python311\\Lib\\site-packages\\sklearn\\utils\\validation.py:2739: UserWarning: X does not have valid feature names, but LGBMClassifier was fitted with feature names\n",
      "  warnings.warn(\n"
     ]
    },
    {
     "name": "stdout",
     "output_type": "stream",
     "text": [
      "Accuracy:     0.8411 ± 0.0108\n",
      "F1:           0.8719 ± 0.0077\n",
      "Precision:    0.8519 ± 0.0135\n",
      "Sensitivity:  0.8930 ± 0.0036\n",
      "Specificity:  0.7614 ± 0.0254\n"
     ]
    },
    {
     "name": "stderr",
     "output_type": "stream",
     "text": [
      "c:\\Users\\Kuba\\AppData\\Local\\Programs\\Python\\Python311\\Lib\\site-packages\\sklearn\\utils\\validation.py:2739: UserWarning: X does not have valid feature names, but LGBMClassifier was fitted with feature names\n",
      "  warnings.warn(\n"
     ]
    }
   ],
   "source": [
    "LightGBM = lgb.LGBMClassifier(verbose=-1)\n",
    "evaluate_model_on_folds(LightGBM)"
   ]
  },
  {
   "cell_type": "markdown",
   "metadata": {},
   "source": [
    "## CatBoost"
   ]
  },
  {
   "cell_type": "code",
   "execution_count": 17,
   "metadata": {},
   "outputs": [
    {
     "name": "stdout",
     "output_type": "stream",
     "text": [
      "Accuracy:     0.8568 ± 0.0107\n",
      "F1:           0.8832 ± 0.0081\n",
      "Precision:    0.8726 ± 0.0130\n",
      "Sensitivity:  0.8943 ± 0.0049\n",
      "Specificity:  0.7994 ± 0.0229\n"
     ]
    }
   ],
   "source": [
    "CatB = CatBoostClassifier(verbose=0)\n",
    "evaluate_model_on_folds(CatB)"
   ]
  },
  {
   "cell_type": "markdown",
   "metadata": {},
   "source": [
    "## Neural Network"
   ]
  },
  {
   "cell_type": "code",
   "execution_count": 22,
   "metadata": {},
   "outputs": [],
   "source": [
    "def evaluate_given_keras_model(model_builder, scheduler=None, folds=5, prefix=\"data/fold_\", epochs=10, batch_size=32, thresholds=[0.5]):\n",
    "    from sklearn.metrics import precision_score, recall_score, f1_score, accuracy_score, matthews_corrcoef\n",
    "\n",
    "    auc_scores = []\n",
    "    all_y_true = []\n",
    "    all_y_pred_prob = []\n",
    "    mean_fpr = np.linspace(0, 1, 100)\n",
    "    tprs = []\n",
    "\n",
    "    for i in range(folds):\n",
    "        train = pd.read_csv(f\"{prefix}{i+1}_train.csv\")\n",
    "        test = pd.read_csv(f\"{prefix}{i+1}_test.csv\")\n",
    "\n",
    "        train['arrytmia'] = train['arrytmia'].apply(lambda x: 1 if x > 1 else x)\n",
    "        test['arrytmia'] = test['arrytmia'].apply(lambda x: 1 if x > 1 else x)\n",
    "\n",
    "        scaler = MinMaxScaler()\n",
    "        train = pd.DataFrame(scaler.fit_transform(train), columns=train.columns)\n",
    "        test = pd.DataFrame(scaler.transform(test), columns=test.columns)\n",
    "\n",
    "        X_train = train.iloc[:, 1:].values\n",
    "        y_train = train['arrytmia'].values\n",
    "\n",
    "        X_test = test.iloc[:, 1:].values\n",
    "        y_test = test['arrytmia'].values\n",
    "\n",
    "        model = model_builder(X_train.shape[1])\n",
    "        callbacks = [scheduler] if scheduler else []\n",
    "\n",
    "        model.fit(X_train, y_train, epochs=epochs, batch_size=batch_size,\n",
    "                  verbose=0, callbacks=callbacks)\n",
    "\n",
    "        y_pred_prob = model.predict(X_test).ravel()\n",
    "        all_y_pred_prob.append(y_pred_prob)\n",
    "        all_y_true.append(y_test)\n",
    "\n",
    "        # ROC\n",
    "        fpr, tpr, _ = roc_curve(y_test, y_pred_prob)\n",
    "        interp_tpr = np.interp(mean_fpr, fpr, tpr)\n",
    "        interp_tpr[0] = 0.0\n",
    "        tprs.append(interp_tpr)\n",
    "        auc_scores.append(auc(fpr, tpr))\n",
    "\n",
    "    print(\"\\nWyniki dla różnych wartości threshold:\")\n",
    "\n",
    "    # Zamiana na numpy array\n",
    "    all_y_true = np.concatenate(all_y_true)\n",
    "    all_y_pred_prob = np.concatenate(all_y_pred_prob)\n",
    "\n",
    "    for thresh in thresholds:\n",
    "        accuracies, f1s, precisions, recalls, specificities, mccs = [], [], [], [], [], []\n",
    "\n",
    "        start = 0\n",
    "        for i in range(folds):\n",
    "            # Oblicz indeks końcowy dla danego folda\n",
    "            fold_len = len(all_y_true) // folds\n",
    "            end = start + fold_len if i < folds - 1 else len(all_y_true)\n",
    "\n",
    "            y_true_fold = all_y_true[start:end]\n",
    "            y_prob_fold = all_y_pred_prob[start:end]\n",
    "            y_pred_fold = (y_prob_fold >= thresh).astype(int)\n",
    "\n",
    "            cm = confusion_matrix(y_true_fold, y_pred_fold)\n",
    "            tn, fp, fn, tp = cm.ravel()\n",
    "\n",
    "            acc = accuracy_score(y_true_fold, y_pred_fold)\n",
    "            f1 = f1_score(y_true_fold, y_pred_fold)\n",
    "            prec = precision_score(y_true_fold, y_pred_fold, zero_division=0)\n",
    "            rec = recall_score(y_true_fold, y_pred_fold)\n",
    "            spec = tn / (tn + fp) if (tn + fp) > 0 else 0\n",
    "            mcc = matthews_corrcoef(y_true_fold, y_pred_fold)\n",
    "\n",
    "            accuracies.append(acc)\n",
    "            f1s.append(f1)\n",
    "            precisions.append(prec)\n",
    "            recalls.append(rec)\n",
    "            specificities.append(spec)\n",
    "            mccs.append(mcc)\n",
    "\n",
    "            start = end\n",
    "\n",
    "        def mean_std_str(metric_list):\n",
    "            return f\"{np.mean(metric_list):.4f} ± {np.std(metric_list):.4f}\"\n",
    "\n",
    "        print(f\"\\nThreshold = {thresh}\")\n",
    "        print(f\"Accuracy:     {mean_std_str(accuracies)}\")\n",
    "        print(f\"F1:           {mean_std_str(f1s)}\")\n",
    "        print(f\"Precision:    {mean_std_str(precisions)}\")\n",
    "        print(f\"Sensitivity:  {mean_std_str(recalls)}\")\n",
    "        print(f\"Specificity:  {mean_std_str(specificities)}\")\n",
    "        print(f\"MCC:          {mean_std_str(mccs)}\")\n",
    "\n",
    "    mean_auc = np.mean(auc_scores)\n",
    "    print(f\"\\nŚredni AUC: {mean_auc:.4f}\")\n",
    "\n",
    "    # Średnia krzywa ROC\n",
    "    mean_tpr = np.mean(tprs, axis=0)\n",
    "    mean_tpr[-1] = 1.0\n",
    "    plt.figure(figsize=(8, 6))\n",
    "    plt.plot(mean_fpr, mean_tpr, label=f'ROC (AUC = {mean_auc:.4f})')\n",
    "    plt.plot([0, 1], [0, 1], linestyle='--', color='gray')\n",
    "    plt.xlabel('False Positive Rate')\n",
    "    plt.ylabel('True Positive Rate')\n",
    "    plt.title('Średnia krzywa ROC (5-fold)')\n",
    "    plt.legend(loc='lower right')\n",
    "    plt.grid(True)\n",
    "    plt.show()"
   ]
  },
  {
   "cell_type": "code",
   "execution_count": 23,
   "metadata": {},
   "outputs": [
    {
     "name": "stdout",
     "output_type": "stream",
     "text": [
      "\u001b[1m284/284\u001b[0m \u001b[32m━━━━━━━━━━━━━━━━━━━━\u001b[0m\u001b[37m\u001b[0m \u001b[1m0s\u001b[0m 1ms/step\n",
      "\u001b[1m280/280\u001b[0m \u001b[32m━━━━━━━━━━━━━━━━━━━━\u001b[0m\u001b[37m\u001b[0m \u001b[1m0s\u001b[0m 994us/step\n",
      "\u001b[1m287/287\u001b[0m \u001b[32m━━━━━━━━━━━━━━━━━━━━\u001b[0m\u001b[37m\u001b[0m \u001b[1m0s\u001b[0m 999us/step\n",
      "\u001b[1m285/285\u001b[0m \u001b[32m━━━━━━━━━━━━━━━━━━━━\u001b[0m\u001b[37m\u001b[0m \u001b[1m0s\u001b[0m 986us/step\n",
      "\u001b[1m286/286\u001b[0m \u001b[32m━━━━━━━━━━━━━━━━━━━━\u001b[0m\u001b[37m\u001b[0m \u001b[1m0s\u001b[0m 975us/step\n",
      "\n",
      "Wyniki dla różnych wartości threshold:\n",
      "\n",
      "Threshold = 0.3\n",
      "Accuracy:     0.7952 ± 0.0212\n",
      "F1:           0.8500 ± 0.0118\n",
      "Precision:    0.7656 ± 0.0276\n",
      "Sensitivity:  0.9567 ± 0.0139\n",
      "Specificity:  0.5478 ± 0.0722\n",
      "MCC:          0.5762 ± 0.0388\n",
      "\n",
      "Threshold = 0.5\n",
      "Accuracy:     0.8146 ± 0.0094\n",
      "F1:           0.8517 ± 0.0065\n",
      "Precision:    0.8265 ± 0.0222\n",
      "Sensitivity:  0.8797 ± 0.0229\n",
      "Specificity:  0.7148 ± 0.0467\n",
      "MCC:          0.6084 ± 0.0220\n",
      "\n",
      "Threshold = 0.7\n",
      "Accuracy:     0.7940 ± 0.0128\n",
      "F1:           0.8180 ± 0.0123\n",
      "Precision:    0.8790 ± 0.0191\n",
      "Sensitivity:  0.7656 ± 0.0226\n",
      "Specificity:  0.8375 ± 0.0294\n",
      "MCC:          0.5910 ± 0.0264\n",
      "\n",
      "Średni AUC: 0.8808\n"
     ]
    },
    {
     "data": {
      "image/png": "[encoded data removed]",
      "text/plain": [
       "<Figure size 800x600 with 1 Axes>"
      ]
     },
     "metadata": {},
     "output_type": "display_data"
    }
   ],
   "source": [
    "def custom_scheduler(epoch, lr):\n",
    "    if epoch < 5:\n",
    "        return lr\n",
    "    else:\n",
    "        return float(lr * tf.math.exp(-0.1))\n",
    "\n",
    "def build_model(input_dim):\n",
    "    model = models.Sequential([\n",
    "        layers.Input(shape=(input_dim,)),\n",
    "        layers.Dense(1024, activation='relu'), \n",
    "        layers.Dense(512, activation='relu'),\n",
    "        layers.Dense(256, activation='relu'),\n",
    "        layers.Dense(128, activation='relu'), \n",
    "        layers.Dense(1, activation='sigmoid') \n",
    "    ])\n",
    "    model.compile(optimizer='adam', loss='binary_crossentropy', metrics=['accuracy'])\n",
    "    return model\n",
    "\n",
    "scheduler = LearningRateScheduler(custom_scheduler)\n",
    "evaluate_given_keras_model(build_model,thresholds=[0.3, 0.5, 0.7], scheduler=scheduler, epochs=10, batch_size=64)\n"
   ]
  },
  {
   "cell_type": "code",
   "execution_count": 7,
   "metadata": {},
   "outputs": [
    {
     "name": "stdout",
     "output_type": "stream",
     "text": [
      "Accuracy:     0.7144 ± 0.0110\n",
      "F1:           0.7932 ± 0.0069\n",
      "Precision:    0.7062 ± 0.0093\n",
      "Sensitivity:  0.9046 ± 0.0039\n",
      "Specificity:  0.4225 ± 0.0246\n"
     ]
    }
   ],
   "source": [
    "SVM = SVC(kernel='linear')\n",
    "evaluate_model_on_folds(SVM,scaler=\"inny\")"
   ]
  },
  {
   "cell_type": "code",
   "execution_count": 6,
   "metadata": {},
   "outputs": [
    {
     "name": "stdout",
     "output_type": "stream",
     "text": [
      "Accuracy:     0.7979 ± 0.0116\n",
      "F1:           0.8394 ± 0.0085\n",
      "Precision:    0.8091 ± 0.0135\n",
      "Sensitivity:  0.8721 ± 0.0095\n",
      "Specificity:  0.6841 ± 0.0270\n"
     ]
    }
   ],
   "source": [
    "from neo_ls_svm import NeoLSSVM\n",
    "\n",
    "model = NeoLSSVM()\n",
    "evaluate_model_on_folds(model,scaler=\"inny\")\n"
   ]
  }
 ],
 "metadata": {
  "kernelspec": {
   "display_name": "Python 3",
   "language": "python",
   "name": "python3"
  },
  "language_info": {
   "codemirror_mode": {
    "name": "ipython",
    "version": 3
   },
   "file_extension": ".py",
   "mimetype": "text/x-python",
   "name": "python",
   "nbconvert_exporter": "python",
   "pygments_lexer": "ipython3",
   "version": "3.11.5"
  }
 },
 "nbformat": 4,
 "nbformat_minor": 2
}
